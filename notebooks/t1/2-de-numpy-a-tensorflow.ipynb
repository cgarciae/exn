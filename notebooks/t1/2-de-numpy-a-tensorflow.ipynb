{
 "cells": [
  {
   "cell_type": "markdown",
   "metadata": {},
   "source": [
    "# De Numpy a TensorFlow\n",
    "En el taller pasado vimos como crear tensores basicos y como realizar algunas operaciones escenciales con ellos. En este taller veremos algunas funcionalidades mas avanzadas, en especial, este taller esta enfocado en ver como podemos realizar tareas en TensorFlow que normalmente hariamos en Numpy."
   ]
  },
  {
   "cell_type": "code",
   "execution_count": 4,
   "metadata": {
    "collapsed": true
   },
   "outputs": [],
   "source": [
    "import numpy as np\n",
    "import tensorflow as tf\n",
    "\n",
    "sess = tf.Session()"
   ]
  },
  {
   "cell_type": "markdown",
   "metadata": {
    "collapsed": true
   },
   "source": [
    "### Arrays\n",
    "En Numpy utilizamos arreglos multidimensionales para realizar toda clase tareas. Creemos algunos arreglos en Numpy como ejemplo y veamos como podemos operar con arreglos de diferentes dimensiones de acuerdo con las reglas del algebra lineal "
   ]
  },
  {
   "cell_type": "code",
   "execution_count": 5,
   "metadata": {},
   "outputs": [
    {
     "name": "stdout",
     "output_type": "stream",
     "text": [
      "Forma: (4,)\n",
      "Valor: [ 5.5596     -6.442292    7.80156884  0.83320112]\n"
     ]
    }
   ],
   "source": [
    "# matriz: dimension (3, 4)\n",
    "a = np.random.randn(3, 4)\n",
    "\n",
    "# vector: dimension (3)\n",
    "b = np.random.rayleigh(3.3, size=(3,))\n",
    "\n",
    "# vector: dimension (4)\n",
    "c = np.random.uniform(0.0, 1.0, size=(4,))\n",
    "\n",
    "# escalar: dimension ()\n",
    "d = 2.0\n",
    "\n",
    "# calculo de dimensiones: \n",
    "# (3) . (3, 4) + () * (4) == (4) + (4) == (4)\n",
    "f = np.dot(b, a) + d * c\n",
    "\n",
    "print(\"Forma: {}\".format(f.shape))\n",
    "print(\"Valor: {}\".format(f))"
   ]
  },
  {
   "cell_type": "markdown",
   "metadata": {},
   "source": [
    "En este ejemplo realizamos operacion estandar, lo importante a tener en cuenta aqui es que realizamos operaciones de forma exitosa con objetos con diferentes formas / shapes. Tener en cuenta la forma de los arreglos es muy importante porque si nos imponen restricciones en la manera como podemos realizar las operaciones. Por ejemplo, anteriormente utilizamos la funcion `dot` (producto punto) para multiplicar un vector de dimension `(3)` con una matriz de dimension `(3,4)`, sin embargo, veamos que si invertimos el orden de la variables vamos a obtener un error: "
   ]
  },
  {
   "cell_type": "code",
   "execution_count": 6,
   "metadata": {},
   "outputs": [
    {
     "name": "stdout",
     "output_type": "stream",
     "text": [
      "Error: shapes (3,4) and (3,) not aligned: 4 (dim 1) != 3 (dim 0)\n"
     ]
    }
   ],
   "source": [
    "try:\n",
    "    np.dot(a, b)\n",
    "\n",
    "    \n",
    "except Exception as e:\n",
    "    print(\"Error: {}\".format(e))"
   ]
  },
  {
   "cell_type": "markdown",
   "metadata": {},
   "source": [
    "Esta discusion las dimensiones y el orden de las operaciones es muy importante para utilizar Tensores multidimensiones."
   ]
  },
  {
   "cell_type": "markdown",
   "metadata": {},
   "source": [
    "### Tensores\n",
    "El el taller anterior utilizamos unicamente escalares, sin embargo, al igual que los arreglos de numpy, los tensores de tensorflow puede tener varias dimensiones y ejecutar operaciones de algebra lineal. Recreemos el ejemplo anterior en TensorFlow"
   ]
  },
  {
   "cell_type": "code",
   "execution_count": 7,
   "metadata": {},
   "outputs": [
    {
     "name": "stdout",
     "output_type": "stream",
     "text": [
      "Forma: (1, 4)\n",
      "Objeto: Tensor(\"add:0\", shape=(1, 4), dtype=float32)\n",
      "V\n"
     ]
    }
   ],
   "source": [
    "# matriz: dimension (3, 4)\n",
    "a = tf.random_normal((3, 4))\n",
    "\n",
    "# vector: dimension (3)\n",
    "b = tf.random_gamma((1, 3), 3.3)\n",
    "\n",
    "# vector: dimension (4)\n",
    "c = tf.random_uniform((1, 4), 0.0, 1.0)\n",
    "\n",
    "# escalar: dimension ()\n",
    "d = 2.0\n",
    "\n",
    "# calculo de dimensiones: \n",
    "# (3) . (3, 4) + () * (4) == (4) + (4) == (4)\n",
    "f = tf.matmul(b, a) + d * c\n",
    "\n",
    "print(\"Forma: {}\".format(f.shape))\n",
    "print(\"Objeto: {}\".format(f))\n",
    "print(\"Valor: {}\".format(sess.run(f))[0])"
   ]
  },
  {
   "cell_type": "markdown",
   "metadata": {},
   "source": [
    "Con la pequeña excepcion de que TensorFlow nos obliga a convertir los tensores `b` y `c` en una matrices de rango `1`, las operaciones de ambos programas son equivalentes. Asi mismo, si invertirmos el orden de las operaciones tambien obtenemos un error"
   ]
  },
  {
   "cell_type": "code",
   "execution_count": 8,
   "metadata": {},
   "outputs": [
    {
     "name": "stdout",
     "output_type": "stream",
     "text": [
      "Error: Dimensions must be equal, but are 4 and 3 for 'mul_1' (op: 'Mul') with input shapes: [3,4], [1,3].\n"
     ]
    }
   ],
   "source": [
    "try:\n",
    "    np.dot(a, b)\n",
    "\n",
    "    \n",
    "except Exception as e:\n",
    "    print(\"Error: {}\".format(e))"
   ]
  },
  {
   "cell_type": "markdown",
   "metadata": {},
   "source": [
    "##### Formas Dinamicas\n",
    "Ahora bien, algo que podemos hacer con tensores de tensorflow y no podemos hacer con los arreglos de numpy es tener dimensiones variables / indefinidas. Veamos un ejemplo de esto:"
   ]
  },
  {
   "cell_type": "code",
   "execution_count": 9,
   "metadata": {},
   "outputs": [
    {
     "name": "stdout",
     "output_type": "stream",
     "text": [
      "Tensor(\"y_1:0\", shape=(?, 5), dtype=float32)\n",
      "\n",
      "[[ 0.42885232  0.21191411  0.21069512  0.46831483  0.95696992]\n",
      " [-1.46838963 -0.85346168  0.32888246 -0.21631327  0.94054866]\n",
      " [ 2.42943144  1.36150146 -0.12900095  0.90617502  0.11072278]\n",
      " [-1.01807058 -0.60830468  0.36419919  0.02988161  1.19888818]]\n"
     ]
    }
   ],
   "source": [
    "# Creemos un tensor placeholder con la primera dimension variable.\n",
    "# Para crear dimensiones variables utilizamos 'None' en vez de un entero.\n",
    "x = tf.placeholder(tf.float32, shape=(None, 2), name='x')\n",
    "\n",
    "# Tensor aleatorio de dimensiones (2, 5)\n",
    "w = tf.random_normal((2, 5), name='y')\n",
    "\n",
    "# Producto punto: x . w\n",
    "# Debido a la reglas de algebra lineal las dimensiones deben ser:\n",
    "# (?, 2) . (2, 5) == (?, 5)\n",
    "y = tf.matmul(x, w, name='y')\n",
    "\n",
    "# Verfifiquemos que la forma/shape si sea: (?, 5)\n",
    "print(y)\n",
    "print(\"\")\n",
    "\n",
    "# Ejecutemos el tensor y visualicemos el resultado.\n",
    "print(sess.run(y, feed_dict={\n",
    "    x: np.random.uniform(-1.0, 1.0, size=(4, 2))\n",
    "}))"
   ]
  },
  {
   "cell_type": "markdown",
   "metadata": {},
   "source": [
    "En este ejemplo definimos el tensor $x$ de la forma `(?, 2)` y contruirmos el tensor $y$ con la forma `(?, 5)`. Ahora bien, al tiempo de ejecutar el tensor $y$, le tenemos que pasar una estructura con una forma definida para $x$. En este caso le pasamos un arreglo con la forma `(4, 2)`, osea que la primera dimension es `4`, for lo tanto al evaluar obtenemos que el valor de $y$ tiene la forma `(4, 5)`, lo cual podemos confirmar visualmente.\n",
    "\n",
    "##### Importancia\n",
    "Los tensores con dimensiones variables aparecen mucho cuando necesitamos e.g. entrenar redes neuronales por batches de tamaño variable, contruir clasificadores puedan procesar varias muestras al mismo tiempo pero no sabemos cuantas necesitemos procesar, modelos de sequencias donde no sabemos el tamaño total de la sequencia, etc."
   ]
  },
  {
   "cell_type": "markdown",
   "metadata": {},
   "source": [
    "### Funciones"
   ]
  },
  {
   "cell_type": "markdown",
   "metadata": {},
   "source": [
    "Muchas de las funcion de Numpy tienen su equivalente en TensorFlow, a veces de forma directa con el proposito de mantener un API similar. A continuacion se presentara una lista no exhaustiva de funciones de Numpy vs TensorFlow\n",
    "\n",
    "|     Numpy  | TensorFlow           |\n",
    "| :- | :- |\n",
    "| max | reduce_max |\n",
    "| argmax | argmax | \n",
    "| min | reduce_min |\n",
    "| argmin | argmin | \n",
    "| argmin | argmin | \n",
    "| mean | reduce_mean |\n",
    "| abs | abs | \n",
    "| mean | reduce_mean |\n",
    "| sqrt | sqrt |\n",
    "| power | pow |\n",
    "| add | add |\n",
    "| multiply | multiply |\n",
    "\n",
    "Acontinuacion mostraremos ejemplos con algunas de estas funciones"
   ]
  },
  {
   "cell_type": "code",
   "execution_count": 10,
   "metadata": {},
   "outputs": [
    {
     "name": "stdout",
     "output_type": "stream",
     "text": [
      "tensor\n",
      "[[ 1.  2.]\n",
      " [ 3.  4.]\n",
      " [ 5.  6.]]\n",
      "\n",
      "reduce_max\n",
      "[ 5.  6.]\n",
      "[ 2.  4.  6.]\n",
      "\n",
      "reduce_min\n",
      "[ 1.  2.]\n",
      "[ 1.  3.  5.]\n",
      "\n",
      "argmax\n",
      "[2 2]\n",
      "[1 1 1]\n",
      "\n",
      "argmin\n",
      "[0 0]\n",
      "[0 0 0]\n",
      "\n",
      "reduce_mean\n",
      "[ 3.  4.]\n",
      "[ 1.5  3.5  5.5]\n",
      "\n",
      "sqrt\n",
      "[[ 0.99999994  1.41421342]\n",
      " [ 1.73205078  1.99999988]\n",
      " [ 2.23606801  2.44948983]]\n"
     ]
    }
   ],
   "source": [
    "t = tf.constant(\n",
    "    [[1.0, 2.0],\n",
    "     [3.0, 4.0],\n",
    "     [5.0, 6.0]]\n",
    ")\n",
    "\n",
    "print(\"tensor\")\n",
    "print(sess.run( t ))\n",
    "\n",
    "# reduce_max\n",
    "print(\"\")\n",
    "print(\"reduce_max\")\n",
    "print(sess.run( tf.reduce_max(t, axis=0) ))\n",
    "print(sess.run( tf.reduce_max(t, axis=1) ))\n",
    "\n",
    "# reduce_min\n",
    "print(\"\")\n",
    "print(\"reduce_min\")\n",
    "print(sess.run( tf.reduce_min(t, axis=0) ))\n",
    "print(sess.run( tf.reduce_min(t, axis=1) ))\n",
    "\n",
    "# argmax\n",
    "print(\"\")\n",
    "print(\"argmax\")\n",
    "print(sess.run( tf.argmax(t, axis=0) ))\n",
    "print(sess.run( tf.argmax(t, axis=1) ))\n",
    "\n",
    "# argmin\n",
    "print(\"\")\n",
    "print(\"argmin\")\n",
    "print(sess.run( tf.argmin(t, axis=0) ))\n",
    "print(sess.run( tf.argmin(t, axis=1) ))\n",
    "\n",
    "# reduce_mean\n",
    "print(\"\")\n",
    "print(\"reduce_mean\")\n",
    "print(sess.run( tf.reduce_mean(t, axis=0) ))\n",
    "print(sess.run( tf.reduce_mean(t, axis=1) ))\n",
    "\n",
    "# sqrt\n",
    "print(\"\")\n",
    "print(\"sqrt\")\n",
    "print(sess.run( tf.sqrt(t) ))"
   ]
  },
  {
   "cell_type": "markdown",
   "metadata": {},
   "source": [
    "###### Slicing\n",
    "Una de las operaciones mas comunes para trabajar con arreglos/tensores es el *slice*. Esta operacion crea un sub-arreglo a partir de un arreglo existente. Ejemplos sencillos de esto puede ser sacar un vector a partir de una filo o columna de una matriz, o una submatriz de una matriz. \n",
    "TensorFlow, al igual que Numpy, aprovecha el protocolo de acceso (`obj[...]`) para realizar esta operacion sobre un tensor. Veamos unos ejemplos"
   ]
  },
  {
   "cell_type": "code",
   "execution_count": 11,
   "metadata": {},
   "outputs": [
    {
     "name": "stdout",
     "output_type": "stream",
     "text": [
      "Segunda fila\n",
      "[ 3.  4.]\n",
      "\n",
      "Primera Columna\n",
      "[ 1.  3.  5.]\n",
      "\n",
      "Primera Columna\n",
      "[ 1.  3.  5.]\n",
      "\n",
      "Ultima Fila\n",
      "[ 5.  6.]\n",
      "\n",
      "Sub matriz con todas menos la primera fila\n",
      "[[ 3.  4.]\n",
      " [ 5.  6.]]\n"
     ]
    }
   ],
   "source": [
    "t = tf.constant(\n",
    "    [[1.0, 2.0],\n",
    "     [3.0, 4.0],\n",
    "     [5.0, 6.0]]\n",
    ")\n",
    "\n",
    "# secunda fila\n",
    "print(\"Segunda fila\")\n",
    "print(sess.run( t[1] ))\n",
    "\n",
    "# primera columna\n",
    "print(\"\")\n",
    "print(\"Primera Columna\")\n",
    "print(sess.run( t[:, 0] ))\n",
    "\n",
    "# primera columna\n",
    "print(\"\")\n",
    "print(\"Primera Columna\")\n",
    "print(sess.run( t[:, 0] ))\n",
    "\n",
    "# ultima fila\n",
    "print(\"\")\n",
    "print(\"Ultima Fila\")\n",
    "print(sess.run( t[-1] ))\n",
    "\n",
    "# ultima fila\n",
    "print(\"\")\n",
    "print(\"Sub matriz con todas menos la primera fila\")\n",
    "print(sess.run( t[1:] ))"
   ]
  },
  {
   "cell_type": "markdown",
   "metadata": {},
   "source": [
    "### Aplicaciones\n",
    "A continuacion vamos mostrar algunos algoritmos que se pueden implementar utilizando matrices. Ambos tienen implementaciones en Numpy, sin embargo, en ambos casos, la ventaja de utilizar TensorFlow es que ambos corren mas rapido si tenemos configurada la GPU. La intension es mostrar la flexibilidad de TensorFlow y la semenjancia que puede tener con Numpy."
   ]
  },
  {
   "cell_type": "markdown",
   "metadata": {},
   "source": [
    "##### Mandelbrot Set\n",
    "El [mandelbrot set](https://en.wikipedia.org/wiki/Mandelbrot_set) es un conjunto de numeros complejos muy famoso porque tiene la propiedad de ser fractal. En este video pueden ver la infinita complejidad de este conjunto.\n",
    "\n",
    "\n",
    "<a href=\"https://youtu.be/zXTpASSd9xE?t=39s\n",
    "\" target=\"_blank\"><img src=\"http://img.youtube.com/vi/zXTpASSd9xE/0.jpg\" \n",
    "alt=\"Mandelbrot Set\" width=\"240\" height=\"180\" border=\"10\" /></a>\n",
    "\n",
    "\n",
    "Aun asi la formula iterativa para calcular si un elemento pertenece al conjunto es muy sencilla. Para cualquier numero complejo $c$, iteramos con la formula\n",
    "\n",
    "<img src=\"https://wikimedia.org/api/rest_v1/media/math/render/svg/92da3a12bc4ab50e61d49d4bc712735da799375d\" align=\"left\">\n",
    "<br>\n",
    "\n",
    "Iniciando con $z = 0$, $c$ pertenece al conjunto si cumple con la siguiente propiedad\n",
    "\n",
    "<img src=\"https://wikimedia.org/api/rest_v1/media/math/render/svg/a870b844b71a8655d596495ba927da1f9432f881\" align=\"left\">\n",
    "<br>\n",
    "<br>\n",
    "\n",
    "En la practica solo iteramos por un numero $n$ de iteracion. Para visualizar el mandelbrot constuirmos un mesh/matriz ordenada de numero complejos e iteramos cada elemento de acuerdo a la formula de mandelbrot. A continuacion presentamos la implementacion del Mandelbrot en TensorFlow, debido a que todos los pixeles se pueden calculan en paralelo, podemos visualizar el conjunto de forma eficiente si tenemos configurado TensorFlow con la GPU. "
   ]
  },
  {
   "cell_type": "code",
   "execution_count": 12,
   "metadata": {},
   "outputs": [],
   "source": [
    "# Numero de iteraciones\n",
    "n = 500\n",
    "\n",
    "##############################################\n",
    "# Crear tensores del Mandelbrot\n",
    "##############################################\n",
    "\n",
    "# Condiciones iniciales, utilizamos dimensiones variables por si queremos \n",
    "# variar la forma de la imagen en cualquier momento.\n",
    "c = tf.placeholder(tf.complex128, shape=(None, None), name='c')\n",
    "\n",
    "with tf.device(\"/cpu:0\"): #cambiar por /gpu:0 si tienes configurada la gpu con tensorflow\n",
    "    \n",
    "    # Iniciamos z inicialmente como un vector de ceros con la misma forma de 'c'\n",
    "    z = tf.zeros_like(c)\n",
    "\n",
    "    # Iterar 'n' veces con la formula de mandelbrot\n",
    "    for i in range(n):\n",
    "        z = z*z + c\n",
    "\n",
    "    # Calcular pertenencia condicion de radio 2\n",
    "    mandelbrot = tf.abs(z) <= 2.0"
   ]
  },
  {
   "cell_type": "code",
   "execution_count": 13,
   "metadata": {},
   "outputs": [
    {
     "data": {
      "image/png": "[encoded data removed]",
      "text/plain": [
       "<matplotlib.figure.Figure at 0x7fb52d02b990>"
      ]
     },
     "metadata": {},
     "output_type": "display_data"
    }
   ],
   "source": [
    "%matplotlib inline\n",
    "from matplotlib import pyplot as plt\n",
    "\n",
    "##############################################\n",
    "# Definir parametros\n",
    "##############################################\n",
    "\n",
    "# region a visualizar\n",
    "xmin = -2.0\n",
    "xmax = 1.0\n",
    "ymin = -1.0j\n",
    "ymax = 1.0j\n",
    "\n",
    "\n",
    "# Dimensiones de la imagen. Si tienes TensorFlow con la GPU puedes utilizar mas resolucion\n",
    "# nx = 1200\n",
    "# ny = 800\n",
    "nx = 300\n",
    "ny = 200\n",
    "\n",
    "\n",
    "\n",
    "##############################################\n",
    "# Definir las condiciones iniciales con Numpy\n",
    "##############################################\n",
    "\n",
    "# crear componentes 'x' y 'y'\n",
    "cx_, cy_ = np.meshgrid(\n",
    "    np.linspace(xmin, xmax, nx),\n",
    "    np.linspace(ymin, ymax, ny)\n",
    ")\n",
    "\n",
    "# unir components\n",
    "c_ = cx_ + cy_\n",
    "\n",
    "##############################################\n",
    "# Definir las condiciones iniciales con Numpy\n",
    "##############################################\n",
    "\n",
    "m = sess.run(mandelbrot, feed_dict={\n",
    "    c: c_\n",
    "})\n",
    "\n",
    "plt.imshow(m)\n",
    "plt.show()"
   ]
  },
  {
   "cell_type": "markdown",
   "metadata": {},
   "source": [
    "##### Game of Life\n",
    "El [Game of Life](https://en.wikipedia.org/wiki/Conway%27s_Game_of_Life) es un automata celular muy famoso que tiene la propiedad de ser Turing Complete. A partir de una reglas muy simples logra tener un comportamiento bastante complejo.\n",
    "\n",
    "A continuacion vamos a implementar este algoritmo utilizando TensorFlow. Para mas informacion sobre el algoritmo por favor ver el enlace previo."
   ]
  },
  {
   "cell_type": "code",
   "execution_count": 16,
   "metadata": {
    "collapsed": true
   },
   "outputs": [],
   "source": [
    "n = 3 * 5 - 1\n",
    "\n",
    "board = board0 = tf.placeholder(tf.int8, shape=[None, None], name='x0')\n",
    "\n",
    "\n",
    "def expand_board(board):\n",
    "    shape = tf.shape(board)\n",
    "    height = shape[0]\n",
    "    width = shape[1]\n",
    "    \n",
    "    left_right = tf.zeros([height, 1], dtype=tf.int8)\n",
    "    top_bottom = tf.zeros([1, width + 2], dtype=tf.int8)\n",
    "    \n",
    "    board = tf.concat([left_right, board, left_right], axis=1)\n",
    "    board = tf.concat([top_bottom, board, top_bottom], axis=0)\n",
    "    \n",
    "    return board\n",
    "\n",
    "def next_life(board):\n",
    "    \n",
    "    boardx = expand_board(board)\n",
    "    \n",
    "    neighbor_count = (\n",
    "        boardx[0:-2, 0:-2] +\n",
    "        boardx[1:-1, 0:-2] +\n",
    "        boardx[2:, 0:-2] +\n",
    "        boardx[2:, 1:-1] +\n",
    "        boardx[2:, 2:] +\n",
    "        boardx[1:-1, 2:] +\n",
    "        boardx[0:-2, 2:] +\n",
    "        boardx[0:-2, 1:-1]\n",
    "    )\n",
    "#     neighbor_count = neighbor_count[1:-1, 1:-1]\n",
    "    alive = tf.equal(neighbor_count, 3) | (tf.equal(board, 1) & tf.equal(neighbor_count, 2))\n",
    "    \n",
    "    return tf.cast(alive, tf.int8)\n",
    "\n",
    "\n",
    "boards = [board]\n",
    "\n",
    "for i in range(n):\n",
    "    board = next_life(board)\n",
    "    boards.append(board)\n",
    "    "
   ]
  },
  {
   "cell_type": "markdown",
   "metadata": {},
   "source": [
    "Teniendo los tensores, de la sequencia, a continuacion damos las condiciones iniciales. Aqui vamos a mostrar la sequencia del [glider][1].\n",
    "\n",
    " [1]: https://en.wikipedia.org/wiki/Glider_(Conway%27s_Life)"
   ]
  },
  {
   "cell_type": "code",
   "execution_count": 15,
   "metadata": {
    "scrolled": false
   },
   "outputs": [
    {
     "data": {
      "image/png": "[encoded data removed]",
      "text/plain": [
       "<matplotlib.figure.Figure at 0x7fb4d87e9210>"
      ]
     },
     "metadata": {},
     "output_type": "display_data"
    },
    {
     "data": {
      "image/png": "[encoded data removed]",
      "text/plain": [
       "<matplotlib.figure.Figure at 0x7fb4b89cead0>"
      ]
     },
     "metadata": {},
     "output_type": "display_data"
    },
    {
     "data": {
      "image/png": "[encoded data removed]",
      "text/plain": [
       "<matplotlib.figure.Figure at 0x7fb4d87f5f10>"
      ]
     },
     "metadata": {},
     "output_type": "display_data"
    },
    {
     "data": {
      "image/png": "[encoded data removed]",
      "text/plain": [
       "<matplotlib.figure.Figure at 0x7fb4d87b5310>"
      ]
     },
     "metadata": {},
     "output_type": "display_data"
    },
    {
     "data": {
      "image/png": "[encoded data removed]",
      "text/plain": [
       "<matplotlib.figure.Figure at 0x7fb507559910>"
      ]
     },
     "metadata": {},
     "output_type": "display_data"
    }
   ],
   "source": [
    "%matplotlib inline\n",
    "from matplotlib import pyplot as plt\n",
    " \n",
    "boards_ = sess.run(boards, feed_dict={\n",
    "    board0: \n",
    "    [[0.,1.,0.,0.,0.,0.,0.,0.,0.,0.],\n",
    "     [0.,0.,1.,0.,0.,0.,0.,0.,0.,0.],\n",
    "     [1.,1.,1.,0.,0.,0.,0.,0.,0.,0.],\n",
    "     [0.,0.,0.,0.,0.,0.,0.,0.,0.,0.],\n",
    "     [0.,0.,0.,0.,0.,0.,0.,0.,0.,0.],\n",
    "     [0.,0.,0.,0.,0.,0.,0.,0.,0.,0.],\n",
    "     [0.,0.,0.,0.,0.,0.,0.,0.,0.,0.],\n",
    "     [0.,0.,0.,0.,0.,0.,0.,0.,0.,0.],\n",
    "     [0.,0.,0.,0.,0.,0.,0.,0.,0.,0.]]\n",
    "})\n",
    "    \n",
    "for i, board_ in enumerate(boards_):\n",
    "    n = (i % 3) + 1\n",
    "    plt.subplot(1, 3, n)\n",
    "    plt.imshow(board_)\n",
    "    \n",
    "    \n",
    "    if n == 3:\n",
    "        plt.show()"
   ]
  }
 ],
 "metadata": {
  "kernelspec": {
   "display_name": "Python 2",
   "language": "python",
   "name": "python2"
  },
  "language_info": {
   "codemirror_mode": {
    "name": "ipython",
    "version": 2
   },
   "file_extension": ".py",
   "mimetype": "text/x-python",
   "name": "python",
   "nbconvert_exporter": "python",
   "pygments_lexer": "ipython2",
   "version": "2.7.12+"
  }
 },
 "nbformat": 4,
 "nbformat_minor": 2
}
