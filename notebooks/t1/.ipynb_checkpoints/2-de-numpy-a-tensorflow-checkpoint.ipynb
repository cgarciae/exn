{
 "cells": [
  {
   "cell_type": "markdown",
   "metadata": {},
   "source": [
    "# De Numpy a TensorFlow\n",
    "En el taller pasado vimos como crear tensores basicos y como realizar algunas operaciones escenciales con ellos. En este taller veremos algunas funcionalidades mas avanzadas, en especial, este taller esta enfocado en ver como podemos realizar tareas en TensorFlow que normalmente hariamos en Numpy."
   ]
  },
  {
   "cell_type": "code",
   "execution_count": 2,
   "metadata": {
    "collapsed": true
   },
   "outputs": [],
   "source": [
    "import numpy as np\n",
    "import tensorflow as tf"
   ]
  },
  {
   "cell_type": "markdown",
   "metadata": {
    "collapsed": true
   },
   "source": [
    "### Arrays\n",
    "En Numpy utilizamos arreglos multidimensionales para realizar toda clase tareas. Creemos algunos arreglos en Numpy como ejemplo y veamos como podemos operar con arreglos de diferentes dimensiones de acuerdo con las reglas del algebra lineal "
   ]
  },
  {
   "cell_type": "code",
   "execution_count": 16,
   "metadata": {},
   "outputs": [
    {
     "name": "stdout",
     "output_type": "stream",
     "text": [
      "Forma: (4,)\n",
      "Valor: [-0.16623515  9.62417575  2.33475716 -7.06859477]\n"
     ]
    }
   ],
   "source": [
    "# matriz: dimension (3, 4)\n",
    "a = np.random.randn(3, 4)\n",
    "\n",
    "# vector: dimension (3)\n",
    "b = np.random.rayleigh(3.3, size=(3,))\n",
    "\n",
    "# vector: dimension (4)\n",
    "c = np.random.uniform(0.0, 1.0, size=(4,))\n",
    "\n",
    "# escalar: dimension ()\n",
    "d = 2.0\n",
    "\n",
    "# calculo de dimensiones: \n",
    "# (3) . (3, 4) + () * (4) == (4) + (4) == (4)\n",
    "f = np.dot(b, a) + d * c\n",
    "\n",
    "print(\"Forma: {}\".format(f.shape))\n",
    "print(\"Valor: {}\".format(f))"
   ]
  },
  {
   "cell_type": "markdown",
   "metadata": {},
   "source": [
    "En este ejemplo realizamos operacion estandar, lo importante a tener en cuenta aqui es que realizamos operaciones de forma exitosa con objetos con diferentes formas / shapes. Tener en cuenta la forma de los arreglos es muy importante porque si nos imponen restricciones en la manera como podemos realizar las operaciones. Por ejemplo, anteriormente utilizamos la funcion `dot` (producto punto) para multiplicar un vector de dimension `(3)` con una matriz de dimension `(3,4)`, sin embargo, veamos que si invertimos el orden de la variables vamos a obtener un error: "
   ]
  },
  {
   "cell_type": "code",
   "execution_count": 21,
   "metadata": {},
   "outputs": [
    {
     "name": "stdout",
     "output_type": "stream",
     "text": [
      "Error: shapes (3,4) and (3,) not aligned: 4 (dim 1) != 3 (dim 0)\n"
     ]
    }
   ],
   "source": [
    "try:\n",
    "    np.dot(a, b)\n",
    "\n",
    "    \n",
    "except Exception as e:\n",
    "    print(\"Error: {}\".format(e))"
   ]
  },
  {
   "cell_type": "markdown",
   "metadata": {},
   "source": [
    "Esta discusion las dimensiones y el orden de las operaciones es muy importante para utilizar Tensores multidimensiones."
   ]
  },
  {
   "cell_type": "markdown",
   "metadata": {},
   "source": [
    "### Tensores\n",
    "El el taller anterior utilizamos unicamente escalares, sin embargo, al igual que los arreglos de numpy, los tensores de tensorflow puede tener varias dimensiones y ejecutar operaciones de algebra lineal. Recreemos el ejemplo anterior en TensorFlow"
   ]
  },
  {
   "cell_type": "code",
   "execution_count": 25,
   "metadata": {
    "collapsed": true
   },
   "outputs": [],
   "source": [
    "tf.random_uniform?"
   ]
  },
  {
   "cell_type": "code",
   "execution_count": 28,
   "metadata": {},
   "outputs": [
    {
     "name": "stdout",
     "output_type": "stream",
     "text": [
      "Forma: (1, 4)\n",
      "Valor: Tensor(\"add:0\", shape=(1, 4), dtype=float32)\n"
     ]
    }
   ],
   "source": [
    "# matriz: dimension (3, 4)\n",
    "a = tf.random_normal((3, 4))\n",
    "\n",
    "# vector: dimension (1, 3)\n",
    "b = tf.random_gamma((1, 3), 3.3)\n",
    "\n",
    "# vector: dimension (4)\n",
    "c = tf.random_uniform((4,), 0.0, 1.0)\n",
    "\n",
    "# escalar: dimension ()\n",
    "d = 2.0\n",
    "\n",
    "# calculo de dimensiones: \n",
    "# (3) . (3, 4) + () * (4) == (4) + (4) == (4)\n",
    "f = tf.matmul(b, a) + d * c\n",
    "\n",
    "print(\"Forma: {}\".format(f.shape))\n",
    "print(\"Valor: {}\".format(f))"
   ]
  },
  {
   "cell_type": "markdown",
   "metadata": {},
   "source": [
    "##### Formas Dinamicas"
   ]
  },
  {
   "cell_type": "markdown",
   "metadata": {},
   "source": [
    "### Funciones"
   ]
  },
  {
   "cell_type": "markdown",
   "metadata": {},
   "source": [
    "### Aplicaciones"
   ]
  },
  {
   "cell_type": "markdown",
   "metadata": {},
   "source": [
    "### Tareas"
   ]
  },
  {
   "cell_type": "code",
   "execution_count": null,
   "metadata": {
    "collapsed": true
   },
   "outputs": [],
   "source": []
  }
 ],
 "metadata": {
  "kernelspec": {
   "display_name": "Python 2",
   "language": "python",
   "name": "python2"
  },
  "language_info": {
   "codemirror_mode": {
    "name": "ipython",
    "version": 2
   },
   "file_extension": ".py",
   "mimetype": "text/x-python",
   "name": "python",
   "nbconvert_exporter": "python",
   "pygments_lexer": "ipython2",
   "version": "2.7.12+"
  }
 },
 "nbformat": 4,
 "nbformat_minor": 2
}
