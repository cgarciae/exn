{
 "cells": [
  {
   "cell_type": "markdown",
   "metadata": {},
   "source": [
    "# Regresion Lineal 1D"
   ]
  },
  {
   "cell_type": "code",
   "execution_count": 2,
   "metadata": {},
   "outputs": [],
   "source": [
    "import tensorflow as tf\n",
    "import numpy as np\n",
    "from matplotlib import pyplot as plt\n",
    "\n",
    "sess = tf.Session()\n",
    "\n",
    "%matplotlib inline"
   ]
  },
  {
   "cell_type": "markdown",
   "metadata": {},
   "source": [
    "### Visualizar Datos"
   ]
  },
  {
   "cell_type": "code",
   "execution_count": 3,
   "metadata": {},
   "outputs": [
    {
     "data": {
      "image/png": "[encoded data removed]",
      "text/plain": [
       "<matplotlib.figure.Figure at 0x7efc67f54c50>"
      ]
     },
     "metadata": {},
     "output_type": "display_data"
    }
   ],
   "source": [
    "arrays = np.loadtxt(\"data/lineal.csv\", delimiter=\",\")\n",
    "\n",
    "x_ = arrays[:, 0]\n",
    "y_ = arrays[:, 1]\n",
    "\n",
    "# x_mean, x_var = np.mean(x_), np.var(x_)\n",
    "# y_mean, y_var = np.mean(y_), np.var(y_)\n",
    "\n",
    "# x_1 = (x_ - x_mean) / x_var\n",
    "# y_1 = (y_ - y_mean) / y_var\n",
    "\n",
    "plt.figure(figsize=(8,6))\n",
    "plt.scatter(x_, y_)\n",
    "plt.show()"
   ]
  },
  {
   "cell_type": "markdown",
   "metadata": {},
   "source": [
    "### Crear Modelo"
   ]
  },
  {
   "cell_type": "code",
   "execution_count": 10,
   "metadata": {},
   "outputs": [],
   "source": [
    "x = tf.placeholder(tf.float32, shape=[None], name='x')\n",
    "y = tf.placeholder(tf.float32, shape=[None], name='y')\n",
    "\n",
    "w = tf.Variable(0.1, name='w')\n",
    "b = tf.Variable(0.2, name='b')\n",
    "\n",
    "h = w * x + b"
   ]
  },
  {
   "cell_type": "markdown",
   "metadata": {},
   "source": [
    "### Funcion de Costo"
   ]
  },
  {
   "cell_type": "code",
   "execution_count": 17,
   "metadata": {},
   "outputs": [],
   "source": [
    "loss = tf.squared_difference(h, y)\n",
    "loss = tf.reduce_mean(loss)"
   ]
  },
  {
   "cell_type": "markdown",
   "metadata": {},
   "source": [
    "### Calcular Derivadas"
   ]
  },
  {
   "cell_type": "code",
   "execution_count": 18,
   "metadata": {},
   "outputs": [
    {
     "name": "stdout",
     "output_type": "stream",
     "text": [
      "dw: Tensor(\"gradients_2/mul_3_grad/Reshape:0\", shape=(), dtype=float32)\n",
      "db: Tensor(\"gradients_2/add_1_grad/Reshape_1:0\", shape=(), dtype=float32)\n"
     ]
    }
   ],
   "source": [
    "dw, db = tf.gradients(loss, [w, b])\n",
    "\n",
    "print(\"dw: {}\".format(dw))\n",
    "print(\"db: {}\".format(db))"
   ]
  },
  {
   "cell_type": "markdown",
   "metadata": {},
   "source": [
    "### Actualizacion de Parametros"
   ]
  },
  {
   "cell_type": "code",
   "execution_count": 19,
   "metadata": {},
   "outputs": [],
   "source": [
    "alpha = 0.01\n",
    "\n",
    "update_w = tf.assign(w, w - alpha * dw)\n",
    "update_b = tf.assign(b, b - alpha * db)\n",
    "\n",
    "update = tf.group(update_w, update_b)"
   ]
  },
  {
   "cell_type": "markdown",
   "metadata": {},
   "source": [
    "### Gradient Descent"
   ]
  },
  {
   "cell_type": "code",
   "execution_count": 22,
   "metadata": {},
   "outputs": [],
   "source": [
    "n = 1000\n",
    "\n",
    "sess.run(tf.global_variables_initializer())\n",
    "\n",
    "for i in range(n):\n",
    "    sess.run(update, feed_dict={\n",
    "        x: x_,\n",
    "        y: y_\n",
    "    })"
   ]
  },
  {
   "cell_type": "markdown",
   "metadata": {},
   "source": [
    "### Visualizar Solucion"
   ]
  },
  {
   "cell_type": "code",
   "execution_count": 23,
   "metadata": {},
   "outputs": [
    {
     "data": {
      "image/png": "[encoded data removed]",
      "text/plain": [
       "<matplotlib.figure.Figure at 0x7efc19d36810>"
      ]
     },
     "metadata": {},
     "output_type": "display_data"
    }
   ],
   "source": [
    "h_ = sess.run(h, feed_dict={x: x_})\n",
    "idx = np.argsort(h_)\n",
    "\n",
    "plt.figure(figsize=(8,6))\n",
    "plt.scatter(x_, y_)\n",
    "plt.plot(x_[idx], h_[idx], 'k')\n",
    "plt.show()"
   ]
  },
  {
   "cell_type": "code",
   "execution_count": null,
   "metadata": {
    "collapsed": true
   },
   "outputs": [],
   "source": []
  }
 ],
 "metadata": {
  "kernelspec": {
   "display_name": "Python 2",
   "language": "python",
   "name": "python2"
  },
  "language_info": {
   "codemirror_mode": {
    "name": "ipython",
    "version": 2
   },
   "file_extension": ".py",
   "mimetype": "text/x-python",
   "name": "python",
   "nbconvert_exporter": "python",
   "pygments_lexer": "ipython2",
   "version": "2.7.12+"
  }
 },
 "nbformat": 4,
 "nbformat_minor": 2
}
