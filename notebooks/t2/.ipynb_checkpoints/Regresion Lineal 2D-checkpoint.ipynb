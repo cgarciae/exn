{
 "cells": [
  {
   "cell_type": "markdown",
   "metadata": {},
   "source": [
    "# Regresion Lineal 2D"
   ]
  },
  {
   "cell_type": "code",
   "execution_count": 1,
   "metadata": {
    "collapsed": true
   },
   "outputs": [],
   "source": [
    "import tensorflow as tf\n",
    "import numpy as np\n",
    "from plotly import offline as py\n",
    "from plotly import graph_objs as go\n",
    "\n",
    "py.init_notebook_mode()\n",
    "\n",
    "sess = tf.Session()"
   ]
  },
  {
   "cell_type": "markdown",
   "metadata": {},
   "source": [
    "### Visualizar Datos"
   ]
  },
  {
   "cell_type": "code",
   "execution_count": 10,
   "metadata": {},
   "outputs": [
    {
     "data": {
      "image/png": "[encoded data removed]",
      "text/plain": [
       "<matplotlib.figure.Figure at 0x7f9f7828c750>"
      ]
     },
     "metadata": {},
     "output_type": "display_data"
    }
   ],
   "source": [
    "arrays = np.loadtxt(\"data/multivariado.csv\", delimiter=\",\")\n",
    "\n",
    "x_ = arrays[:, 0:2]\n",
    "y_ = arrays[:, 2]\n",
    "\n",
    "\n",
    "plt.figure(figsize=(12,5))\n",
    "\n",
    "plt.subplot(1, 2, 1)\n",
    "plt.scatter(x_[:, 0], y_)\n",
    "\n",
    "plt.subplot(1, 2, 2)\n",
    "plt.scatter(x_[:, 1], y_)\n",
    "\n",
    "plt.show()"
   ]
  },
  {
   "cell_type": "markdown",
   "metadata": {},
   "source": [
    "### Crear Modelo"
   ]
  },
  {
   "cell_type": "code",
   "execution_count": 107,
   "metadata": {
    "collapsed": true
   },
   "outputs": [],
   "source": [
    "x = tf.placeholder(tf.float32, shape=[None, 2], name='x')\n",
    "y = tf.placeholder(tf.float32, shape=[None], name='y')\n",
    "\n",
    "w = tf.Variable([[0.1], [0.15]], name='w')\n",
    "b = tf.Variable(0.2, name='b')\n",
    "\n",
    "h = tf.matmul(x, w) + b\n",
    "h = h[:, 0]"
   ]
  },
  {
   "cell_type": "markdown",
   "metadata": {},
   "source": [
    "### Funcion de Costo"
   ]
  },
  {
   "cell_type": "code",
   "execution_count": 123,
   "metadata": {
    "collapsed": true
   },
   "outputs": [],
   "source": [
    "def huber_loss(y_true, y_pred, max_grad=1.):\n",
    "    a = tf.abs(y_true - y_pred, name='a')\n",
    "    \n",
    "    return tf.where(\n",
    "        a < max_grad, \n",
    "        0.5 * a * a, \n",
    "        max_grad * (a - 0.5 * max_grad)\n",
    "    )\n",
    "\n",
    "loss = huber_loss(h, y)\n",
    "loss = tf.reduce_mean(loss)"
   ]
  },
  {
   "cell_type": "markdown",
   "metadata": {},
   "source": [
    "### Calcular Derivadas"
   ]
  },
  {
   "cell_type": "code",
   "execution_count": 124,
   "metadata": {},
   "outputs": [
    {
     "name": "stdout",
     "output_type": "stream",
     "text": [
      "dw: Tensor(\"gradients_13/MatMul_11_grad/MatMul_1:0\", shape=(2, 1), dtype=float32)\n",
      "db: Tensor(\"gradients_13/add_11_grad/Reshape_1:0\", shape=(), dtype=float32)\n"
     ]
    }
   ],
   "source": [
    "dw, db = tf.gradients(loss, [w, b])\n",
    "\n",
    "print(\"dw: {}\".format(dw))\n",
    "print(\"db: {}\".format(db))"
   ]
  },
  {
   "cell_type": "markdown",
   "metadata": {},
   "source": [
    "### Actualizacion de Parametros"
   ]
  },
  {
   "cell_type": "code",
   "execution_count": 125,
   "metadata": {
    "collapsed": true
   },
   "outputs": [],
   "source": [
    "alpha = 0.1\n",
    "\n",
    "update_w = tf.assign(w, w - alpha * dw)\n",
    "update_b = tf.assign(b, b - alpha * db)\n",
    "\n",
    "update = tf.group(update_w, update_b)"
   ]
  },
  {
   "cell_type": "markdown",
   "metadata": {},
   "source": [
    "### Gradient Descent"
   ]
  },
  {
   "cell_type": "code",
   "execution_count": 126,
   "metadata": {},
   "outputs": [
    {
     "name": "stdout",
     "output_type": "stream",
     "text": [
      "[array([[ 0.1       ],\n",
      "       [ 0.15000001]], dtype=float32), 0.2, 340211.41]\n",
      "[array([[ 115.47059631],\n",
      "       [   3.17552853]], dtype=float32), 1.2127674, 109577.09]\n"
     ]
    }
   ],
   "source": [
    "n = 1000\n",
    "\n",
    "sess.run(tf.global_variables_initializer())\n",
    "print(sess.run([w, b, loss], feed_dict={x: x_, y: y_}))\n",
    "\n",
    "for i in range(n):\n",
    "    sess.run(update, feed_dict={\n",
    "        x: x_,\n",
    "        y: y_\n",
    "    })\n",
    "    \n",
    "print(sess.run([w, b, loss], feed_dict={x: x_, y: y_}))"
   ]
  },
  {
   "cell_type": "markdown",
   "metadata": {},
   "source": [
    "### Visualizar Solucion"
   ]
  },
  {
   "cell_type": "code",
   "execution_count": 127,
   "metadata": {},
   "outputs": [
    {
     "name": "stdout",
     "output_type": "stream",
     "text": [
      "[ 115.47059631    3.17552853]\n",
      "1.21277\n"
     ]
    }
   ],
   "source": [
    "print(sess.run(w).T[0])\n",
    "print(sess.run(b))"
   ]
  }
 ],
 "metadata": {
  "kernelspec": {
   "display_name": "Python 2",
   "language": "python",
   "name": "python2"
  },
  "language_info": {
   "codemirror_mode": {
    "name": "ipython",
    "version": 2
   },
   "file_extension": ".py",
   "mimetype": "text/x-python",
   "name": "python",
   "nbconvert_exporter": "python",
   "pygments_lexer": "ipython2",
   "version": "2.7.12+"
  }
 },
 "nbformat": 4,
 "nbformat_minor": 2
}
